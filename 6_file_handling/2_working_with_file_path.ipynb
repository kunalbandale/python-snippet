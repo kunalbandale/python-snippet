{
 "cells": [
  {
   "cell_type": "markdown",
   "metadata": {},
   "source": [
    "### working with file paths "
   ]
  },
  {
   "cell_type": "code",
   "execution_count": 1,
   "metadata": {},
   "outputs": [
    {
     "name": "stdout",
     "output_type": "stream",
     "text": [
      "dir package created\n"
     ]
    }
   ],
   "source": [
    "## create a new dir\n",
    "import os\n",
    "new_dir = \"package\"\n",
    "os.mkdir(new_dir)\n",
    "print(f\"dir {new_dir} created\")"
   ]
  },
  {
   "cell_type": "code",
   "execution_count": 3,
   "metadata": {},
   "outputs": [
    {
     "name": "stdout",
     "output_type": "stream",
     "text": [
      "['1_file_operation.ipynb', '2_working_with_file_path.ipynb', 'dst.txt', 'example.bin', 'example.txt', 'package']\n"
     ]
    }
   ],
   "source": [
    "## list files and directories \n",
    "\n",
    "items = os.listdir('.')\n",
    "print(items)"
   ]
  },
  {
   "cell_type": "code",
   "execution_count": 5,
   "metadata": {},
   "outputs": [
    {
     "name": "stdout",
     "output_type": "stream",
     "text": [
      "folder\\file.txt\n"
     ]
    }
   ],
   "source": [
    "# joining paths -> imp part \n",
    "#  every os has diff file path types\n",
    "dir_name1 = \"folder\"\n",
    "file_name=\"file.txt\"\n",
    "full_path=os.path.join(dir_name1,file_name)\n",
    "print(full_path)"
   ]
  },
  {
   "cell_type": "code",
   "execution_count": 6,
   "metadata": {},
   "outputs": [
    {
     "name": "stdout",
     "output_type": "stream",
     "text": [
      "d:\\python-snippet\\6_file_handling\\folder\\file.txt\n"
     ]
    }
   ],
   "source": [
    "# full path \n",
    "dir_name1 = \"folder\"\n",
    "file_name=\"file.txt\"\n",
    "full_path=os.path.join(os.getcwd(),dir_name1,file_name)\n",
    "print(full_path)"
   ]
  },
  {
   "cell_type": "code",
   "execution_count": 7,
   "metadata": {},
   "outputs": [
    {
     "name": "stdout",
     "output_type": "stream",
     "text": [
      "the path does not exsits\n"
     ]
    }
   ],
   "source": [
    "path = \"ex1.txt\"\n",
    "if os.path.exists(path):\n",
    "    print(\"path exists\")\n",
    "else:\n",
    "    print(f\"the path does not exsits\")"
   ]
  },
  {
   "cell_type": "code",
   "execution_count": 8,
   "metadata": {},
   "outputs": [
    {
     "name": "stdout",
     "output_type": "stream",
     "text": [
      "d:\\python-snippet\\6_file_handling\\example.txt\n"
     ]
    }
   ],
   "source": [
    "#  getting the abosolute path \n",
    "\n",
    "realtive_path=\"example.txt\"\n",
    "absolute_path=os.path.abspath(realtive_path)\n",
    "print(absolute_path)"
   ]
  }
 ],
 "metadata": {
  "kernelspec": {
   "display_name": "Python 3",
   "language": "python",
   "name": "python3"
  },
  "language_info": {
   "codemirror_mode": {
    "name": "ipython",
    "version": 3
   },
   "file_extension": ".py",
   "mimetype": "text/x-python",
   "name": "python",
   "nbconvert_exporter": "python",
   "pygments_lexer": "ipython3",
   "version": "3.10.15"
  }
 },
 "nbformat": 4,
 "nbformat_minor": 2
}
