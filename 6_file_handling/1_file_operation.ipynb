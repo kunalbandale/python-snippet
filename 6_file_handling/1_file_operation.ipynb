{
 "cells": [
  {
   "cell_type": "markdown",
   "metadata": {},
   "source": [
    "File operations - read and write files "
   ]
  },
  {
   "cell_type": "code",
   "execution_count": 4,
   "metadata": {},
   "outputs": [
    {
     "name": "stdout",
     "output_type": "stream",
     "text": [
      "Hello how are you. iam good thank you\n"
     ]
    }
   ],
   "source": [
    "# read a whole file \n",
    "\n",
    "\n",
    "with open('example.txt','r') as file:\n",
    "        content=file.read()\n",
    "        print(content)"
   ]
  },
  {
   "cell_type": "code",
   "execution_count": 15,
   "metadata": {},
   "outputs": [
    {
     "name": "stdout",
     "output_type": "stream",
     "text": [
      "Hello worldAppendAppend\n",
      "\n",
      "Append\n"
     ]
    }
   ],
   "source": [
    "#  read a file line by line\n",
    "\n",
    "with open('example.txt','r') as file:\n",
    "        for line in file:    \n",
    "          print(line.strip()) # strip operation remove new line charcter"
   ]
  },
  {
   "cell_type": "code",
   "execution_count": 8,
   "metadata": {},
   "outputs": [],
   "source": [
    "# writing a file(overwriting)\n",
    "\n",
    "with open('example.txt','w') as file:\n",
    "    file.write(\"Hello world\")"
   ]
  },
  {
   "cell_type": "code",
   "execution_count": 14,
   "metadata": {},
   "outputs": [],
   "source": [
    "## write a file without overwriting \n",
    "with open('example.txt' , 'a') as file:\n",
    "    file.write(\"Append\\n\")"
   ]
  },
  {
   "cell_type": "code",
   "execution_count": 16,
   "metadata": {},
   "outputs": [],
   "source": [
    "## write multiple lines (list of lines)\n",
    "\n",
    "lines=[\"firstline\\n\" , \"secondline\", \"thirdline\" , \"forthline\"]\n",
    "with open('example.txt','a') as file:\n",
    "    file.writelines(lines)"
   ]
  },
  {
   "cell_type": "code",
   "execution_count": 17,
   "metadata": {},
   "outputs": [],
   "source": [
    "### Binary Files\n",
    "# .bin \n",
    "# we update bytes\n",
    "\n",
    "data = b'\\x00\\x01'\n",
    "with open('example.bin','wb') as file:\n",
    "    file.write(data)\n"
   ]
  },
  {
   "cell_type": "code",
   "execution_count": 18,
   "metadata": {},
   "outputs": [
    {
     "name": "stdout",
     "output_type": "stream",
     "text": [
      "b'\\x00\\x01'\n"
     ]
    }
   ],
   "source": [
    "# reading a binary files\n",
    "\n",
    "with open('example.bin','rb') as file:\n",
    "    content = file.read()\n",
    "    print(content)"
   ]
  },
  {
   "cell_type": "code",
   "execution_count": 19,
   "metadata": {},
   "outputs": [],
   "source": [
    "# practical examples -> read the content form a soruce text file and write to a destnation text file\n",
    "# copuing a text file\n",
    "\n",
    "with open('example.txt','r') as src_file:\n",
    "    content = src_file.read()\n",
    "\n",
    "with open('dst.txt','w') as dst_file:\n",
    "    dst_file.write(content)\n"
   ]
  },
  {
   "cell_type": "code",
   "execution_count": 21,
   "metadata": {},
   "outputs": [
    {
     "name": "stdout",
     "output_type": "stream",
     "text": [
      "HellllloooooThis is new file\n"
     ]
    }
   ],
   "source": [
    "#  writing and then reading a file\n",
    "#  the w+ mode in python is used to open a file for both reading and wiriting.\n",
    "with open('example.txt','w+') as file:\n",
    "    file.write(\"Helllllooooo\")\n",
    "    file.write(\"This is new file\")\n",
    "\n",
    "    # move the file cursor to the begining \n",
    "    file.seek(0)\n",
    "\n",
    "    # read the content of the file\n",
    "    content=file.read()\n",
    "    print(content)"
   ]
  },
  {
   "cell_type": "code",
   "execution_count": null,
   "metadata": {},
   "outputs": [],
   "source": []
  }
 ],
 "metadata": {
  "kernelspec": {
   "display_name": "Python 3",
   "language": "python",
   "name": "python3"
  },
  "language_info": {
   "codemirror_mode": {
    "name": "ipython",
    "version": 3
   },
   "file_extension": ".py",
   "mimetype": "text/x-python",
   "name": "python",
   "nbconvert_exporter": "python",
   "pygments_lexer": "ipython3",
   "version": "3.10.15"
  }
 },
 "nbformat": 4,
 "nbformat_minor": 2
}
