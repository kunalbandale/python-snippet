{
 "cells": [
  {
   "cell_type": "markdown",
   "metadata": {},
   "source": [
    "Variables: \n",
    "In Python, a variable is a named location in memory that stores a value. It acts as a container for data, allowing you to store and manipulate information in your program."
   ]
  },
  {
   "cell_type": "markdown",
   "metadata": {},
   "source": [
    "Topics :\n",
    "- Intro to variables\n",
    "- Declaring and Assinging Variables \n",
    "- Naming Conventions\n",
    "- Understanding Variable Types\n",
    "- Type Checking and Conversion\n",
    "- Dynamic Typing\n"
   ]
  },
  {
   "cell_type": "code",
   "execution_count": 1,
   "metadata": {},
   "outputs": [],
   "source": [
    "a = 100"
   ]
  },
  {
   "cell_type": "code",
   "execution_count": 2,
   "metadata": {},
   "outputs": [
    {
     "name": "stdout",
     "output_type": "stream",
     "text": [
      "age: 32\n",
      "6.1\n",
      "True\n"
     ]
    }
   ],
   "source": [
    "# Declaring and assinging variables\n",
    "\n",
    "age = 32\n",
    "height = 6.1\n",
    "name = \"Kunal\"\n",
    "is_student = True\n",
    "\n",
    "print(\"age:\" , age)\n",
    "print(height)\n",
    "print(is_student)"
   ]
  },
  {
   "cell_type": "code",
   "execution_count": 3,
   "metadata": {},
   "outputs": [],
   "source": [
    "# naming conventions\n",
    "# -------\n",
    "# variable names should be descirptive\n",
    "# They must always start with letter or underscore\n",
    "# variable names are case senstive\n",
    "\n",
    "# valid variable names\n",
    "first_name = \"Kunal\"\n",
    "last_name = \"Bandale\"\n",
    "\n",
    "# invalid variable names\n",
    "# 3hello = 34\n",
    "# -func = 3\n",
    "# @name = 'heelo'"
   ]
  },
  {
   "cell_type": "code",
   "execution_count": 4,
   "metadata": {},
   "outputs": [
    {
     "name": "stdout",
     "output_type": "stream",
     "text": [
      "<class 'bool'>\n"
     ]
    }
   ],
   "source": [
    "# types of variables \n",
    "# python is dynamically types , type of variable is detemined at runtime\n",
    "\n",
    "age = 32  # integer\n",
    "height = 6.1 # float\n",
    "name = \"Kunal\" # string\n",
    "is_student = True # boolean\n",
    "\n",
    "print(type(is_student))"
   ]
  },
  {
   "cell_type": "code",
   "execution_count": 5,
   "metadata": {},
   "outputs": [
    {
     "name": "stdout",
     "output_type": "stream",
     "text": [
      "<class 'str'>\n"
     ]
    }
   ],
   "source": [
    "# Type Checking and Conversion\n",
    "# can we convert one datatype to other?\n",
    "\n",
    "age_str = str(age)\n",
    "print(type(age_str))"
   ]
  },
  {
   "cell_type": "code",
   "execution_count": 6,
   "metadata": {},
   "outputs": [
    {
     "name": "stdout",
     "output_type": "stream",
     "text": [
      "10 <class 'int'>\n",
      "Hello <class 'str'>\n",
      "5.5 <class 'float'>\n"
     ]
    }
   ],
   "source": [
    "# dyanmic typing\n",
    "# python allows the type of a variable to change as the program executes\n",
    "var = 10\n",
    "print (var , type(var))\n",
    "\n",
    "var = \"Hello\"\n",
    "print (var , type(var))\n",
    "\n",
    "var = 5.5\n",
    "print (var , type(var))\n"
   ]
  },
  {
   "cell_type": "code",
   "execution_count": 9,
   "metadata": {},
   "outputs": [
    {
     "name": "stdout",
     "output_type": "stream",
     "text": [
      "20\n"
     ]
    }
   ],
   "source": [
    "# input - taking input from user\n",
    "\n",
    "age = int(input(\"Enter Your Age:\"))\n",
    "print(age)"
   ]
  },
  {
   "cell_type": "code",
   "execution_count": 8,
   "metadata": {},
   "outputs": [
    {
     "name": "stdout",
     "output_type": "stream",
     "text": [
      "86.0\n",
      "-4.0\n",
      "1845.0\n",
      "0.9111111111111111\n"
     ]
    }
   ],
   "source": [
    "# simple calculator application\n",
    "\n",
    "num1 = float(input(\"Enter first Number:\"))\n",
    "num2 = float(input(\"Enter second Number:\"))\n",
    "\n",
    "sum = num1 + num2\n",
    "difference = num1 - num2\n",
    "product = num1*num2\n",
    "Quotient = num1 / num2\n",
    "\n",
    "print(sum)\n",
    "print(difference)\n",
    "print(product)\n",
    "print(Quotient)"
   ]
  },
  {
   "cell_type": "code",
   "execution_count": null,
   "metadata": {},
   "outputs": [],
   "source": []
  }
 ],
 "metadata": {
  "kernelspec": {
   "display_name": "Python 3",
   "language": "python",
   "name": "python3"
  },
  "language_info": {
   "codemirror_mode": {
    "name": "ipython",
    "version": 3
   },
   "file_extension": ".py",
   "mimetype": "text/x-python",
   "name": "python",
   "nbconvert_exporter": "python",
   "pygments_lexer": "ipython3",
   "version": "3.10.15"
  }
 },
 "nbformat": 4,
 "nbformat_minor": 2
}
