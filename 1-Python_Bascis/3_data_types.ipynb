{
 "cells": [
  {
   "cell_type": "markdown",
   "metadata": {},
   "source": [
    "Data Types\n",
    "- Data types are a classficiation of data which tell the complier or interpreter how the programmer intends to use the data\n",
    "- They determine the type of operations that can be performend on the data, the values that the data can take, and the amount of memory needed to store the data"
   ]
  },
  {
   "cell_type": "markdown",
   "metadata": {},
   "source": [
    "Importance of data types in programming \n",
    "- data types ensure that data is stored in an effiencet way.\n",
    "- They help in performing correct operations on data.\n",
    "- proper use of data types can prevent errors and bugs in the program."
   ]
  },
  {
   "cell_type": "markdown",
   "metadata": {},
   "source": [
    "Basic data types\n",
    "- integers\n",
    "- floating-point numbers\n",
    "- strings\n",
    "- booleans \n",
    "\n",
    "Advanced Data Types\n",
    "- Lists\n",
    "- Tuples\n",
    "- Sets\n",
    "- Dictionaries \n",
    "\n",
    "Type Conversion\n"
   ]
  },
  {
   "cell_type": "code",
   "execution_count": 3,
   "metadata": {},
   "outputs": [
    {
     "name": "stdout",
     "output_type": "stream",
     "text": [
      "<class 'int'>\n",
      "<class 'float'>\n",
      "<class 'str'>\n",
      "<class 'bool'>\n"
     ]
    }
   ],
   "source": [
    "# Integer Example\n",
    "age = 23\n",
    "print(type(age))\n",
    "# Floating type\n",
    "height = 4.3\n",
    "print(type(height))\n",
    "# string\n",
    "name = \"Kunal\"\n",
    "print(type(name))\n",
    "# boolean \n",
    "is_std = True\n",
    "print(type(is_std))\n",
    "\n"
   ]
  },
  {
   "cell_type": "code",
   "execution_count": 7,
   "metadata": {},
   "outputs": [],
   "source": [
    "# common errors\n",
    "\n",
    "# result = \"Hello\" + 5 "
   ]
  },
  {
   "cell_type": "code",
   "execution_count": 8,
   "metadata": {},
   "outputs": [
    {
     "name": "stdout",
     "output_type": "stream",
     "text": [
      "Hello5\n"
     ]
    }
   ],
   "source": [
    "\n",
    "result = \"Hello\" + str(5) \n",
    "print(result)"
   ]
  }
 ],
 "metadata": {
  "kernelspec": {
   "display_name": "Python 3",
   "language": "python",
   "name": "python3"
  },
  "language_info": {
   "codemirror_mode": {
    "name": "ipython",
    "version": 3
   },
   "file_extension": ".py",
   "mimetype": "text/x-python",
   "name": "python",
   "nbconvert_exporter": "python",
   "pygments_lexer": "ipython3",
   "version": "3.10.15"
  }
 },
 "nbformat": 4,
 "nbformat_minor": 2
}
