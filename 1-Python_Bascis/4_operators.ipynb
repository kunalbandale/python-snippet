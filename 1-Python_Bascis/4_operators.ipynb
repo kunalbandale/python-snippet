{
 "cells": [
  {
   "cell_type": "markdown",
   "metadata": {},
   "source": [
    "Operators \n",
    "- intro\n",
    "- Arithmetic operators\n",
    "    - addition\n",
    "    - subtraction\n",
    "    - multiplication\n",
    "    - division\n",
    "    - floor division\n",
    "    - modulus\n",
    "    - exponentiation\n",
    "- Comparison Operators \n",
    "    - Equal to\n",
    "    - not equal to\n",
    "    - Greater than\n",
    "    - less than\n",
    "    - greater than or equal to\n",
    "    - less than or equal to\n",
    "\n",
    "- Logical Operators \n",
    "    - AND\n",
    "    - OR \n",
    "    - NOT\n",
    " "
   ]
  }
 ],
 "metadata": {
  "language_info": {
   "name": "python"
  }
 },
 "nbformat": 4,
 "nbformat_minor": 2
}
