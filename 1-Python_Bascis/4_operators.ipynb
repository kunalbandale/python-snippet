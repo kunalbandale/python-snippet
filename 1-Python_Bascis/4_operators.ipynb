{
 "cells": [
  {
   "cell_type": "markdown",
   "metadata": {},
   "source": [
    "Operators \n",
    "- intro\n",
    "- Arithmetic operators\n",
    "    - addition\n",
    "    - subtraction\n",
    "    - multiplication\n",
    "    - division\n",
    "    - floor division\n",
    "    - modulus\n",
    "    - exponentiation\n",
    "- Comparison Operators \n",
    "    - Equal to\n",
    "    - not equal to\n",
    "    - Greater than\n",
    "    - less than\n",
    "    - greater than or equal to\n",
    "    - less than or equal to\n",
    "\n",
    "- Logical Operators \n",
    "    - AND\n",
    "    - OR \n",
    "    - NOT\n",
    " "
   ]
  },
  {
   "cell_type": "code",
   "execution_count": 1,
   "metadata": {},
   "outputs": [
    {
     "name": "stdout",
     "output_type": "stream",
     "text": [
      "15\n",
      "5\n",
      "50\n",
      "2.0\n",
      "0\n",
      "2\n",
      "100000\n",
      "2\n"
     ]
    }
   ],
   "source": [
    "# Arthimetic Operation \n",
    "a = 10\n",
    "b = 5\n",
    "\n",
    "add_result = a+b\n",
    "sub_result = a-b\n",
    "mul_result = a*b\n",
    "div_result = a/b\n",
    "mod_result = a%b\n",
    "expo_result = a**b\n",
    "floor_result = a // b\n",
    "\n",
    "print(add_result)\n",
    "print(sub_result)\n",
    "print(mul_result)\n",
    "print(div_result)\n",
    "print(mod_result)\n",
    "print(floor_result)\n",
    "print(expo_result)\n",
    "print(floor_result)\n",
    "\n"
   ]
  },
  {
   "cell_type": "code",
   "execution_count": 5,
   "metadata": {},
   "outputs": [
    {
     "name": "stdout",
     "output_type": "stream",
     "text": [
      "False\n",
      "True\n",
      "False\n",
      "True\n"
     ]
    }
   ],
   "source": [
    "# Comparsion Operators ==\n",
    "a=10\n",
    "b=20\n",
    "res1 = a==b\n",
    "print(res1)\n",
    "\n",
    "# Not Equal to !=\n",
    "str1 = 'Kunal'\n",
    "str2 = 'kunal'\n",
    "res2 = str1!= str2\n",
    "print(res2)\n",
    "\n",
    "# greater than > \n",
    "num1 = 45\n",
    "num2 = 55\n",
    "\n",
    "res3 = num1 > num2 \n",
    "print(res3)\n",
    "\n",
    "# less than <\n",
    "res4 = num1 < num2\n",
    "print(res4)\n",
    "\n",
    "# greater than equal to >= \n",
    "# less than equal to <=\n"
   ]
  },
  {
   "cell_type": "code",
   "execution_count": null,
   "metadata": {},
   "outputs": [],
   "source": [
    "# Logical Operators\n",
    "# and , not , or \n",
    "\n"
   ]
  }
 ],
 "metadata": {
  "kernelspec": {
   "display_name": "Python 3",
   "language": "python",
   "name": "python3"
  },
  "language_info": {
   "codemirror_mode": {
    "name": "ipython",
    "version": 3
   },
   "file_extension": ".py",
   "mimetype": "text/x-python",
   "name": "python",
   "nbconvert_exporter": "python",
   "pygments_lexer": "ipython3",
   "version": "3.10.15"
  }
 },
 "nbformat": 4,
 "nbformat_minor": 2
}
