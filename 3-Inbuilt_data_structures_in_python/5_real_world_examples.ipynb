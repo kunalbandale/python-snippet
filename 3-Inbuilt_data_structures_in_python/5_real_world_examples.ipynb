{
 "cells": [
  {
   "cell_type": "markdown",
   "metadata": {},
   "source": [
    "## Real World Examples "
   ]
  },
  {
   "cell_type": "markdown",
   "metadata": {
    "vscode": {
     "languageId": "plaintext"
    }
   },
   "source": [
    "1. Manage a TODO list"
   ]
  },
  {
   "cell_type": "code",
   "execution_count": 2,
   "metadata": {},
   "outputs": [
    {
     "name": "stdout",
     "output_type": "stream",
     "text": [
      "Dont forget to pay the utility bills\n",
      "To Do list reamaining\n",
      "To do something\n",
      "-complete_project\n",
      "-learn ML\n",
      "-Schedule meeting with ak\n",
      "-GYM\n"
     ]
    }
   ],
   "source": [
    "todo_list = [\"study\",\"complete_project\",\"learn ML\"]\n",
    "\n",
    "# adding a todo task\n",
    "\n",
    "todo_list.append(\"Schedule meeting with ak\")\n",
    "todo_list.append(\"GYM\")\n",
    "\n",
    "# removing a task\n",
    "todo_list.remove(\"study\")\n",
    "\n",
    "## checking if a task is in the list\n",
    "\n",
    "if \"learn ML\":\n",
    "    print(\"Dont forget to pay the utility bills\")\n",
    "\n",
    "print(\"To Do list reamaining\")\n",
    "\n",
    "print(\"To do something\")\n",
    "for task in todo_list:\n",
    "    print(f\"-{task}\")"
   ]
  }
 ],
 "metadata": {
  "kernelspec": {
   "display_name": "Python 3",
   "language": "python",
   "name": "python3"
  },
  "language_info": {
   "codemirror_mode": {
    "name": "ipython",
    "version": 3
   },
   "file_extension": ".py",
   "mimetype": "text/x-python",
   "name": "python",
   "nbconvert_exporter": "python",
   "pygments_lexer": "ipython3",
   "version": "3.10.15"
  }
 },
 "nbformat": 4,
 "nbformat_minor": 2
}
