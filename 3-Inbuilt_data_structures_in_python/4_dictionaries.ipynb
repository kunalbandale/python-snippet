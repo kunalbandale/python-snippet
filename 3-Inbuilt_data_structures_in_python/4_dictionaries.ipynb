{
 "cells": [
  {
   "cell_type": "markdown",
   "metadata": {},
   "source": [
    "Dictionaries \n",
    "\n",
    "1. Introduction \n",
    "2. Creating\n",
    "3. accessing \n",
    "4. modifying\n",
    "5. methods\n",
    "6. iterating over dictorionares\n",
    "7. Nested Dictionaries\n",
    "8. Dictionary Comprehensions\n",
    "9. Practical Examples and Common Errors \n"
   ]
  },
  {
   "cell_type": "markdown",
   "metadata": {},
   "source": [
    "Introduction \n",
    "- dictionaries are unordered collections of items.Tehy store data in key-value pairs. Keys must be unique and immutable while values can be any type"
   ]
  },
  {
   "cell_type": "code",
   "execution_count": 1,
   "metadata": {},
   "outputs": [
    {
     "name": "stdout",
     "output_type": "stream",
     "text": [
      "<class 'dict'>\n"
     ]
    }
   ],
   "source": [
    "# creating dictionaries \n",
    "empty_dict = {}\n",
    "print(type(empty_dict))"
   ]
  },
  {
   "cell_type": "code",
   "execution_count": 3,
   "metadata": {},
   "outputs": [
    {
     "name": "stdout",
     "output_type": "stream",
     "text": [
      "{}\n"
     ]
    }
   ],
   "source": [
    "empty_dict = dict()\n",
    "print(empty_dict)"
   ]
  },
  {
   "cell_type": "code",
   "execution_count": 5,
   "metadata": {},
   "outputs": [
    {
     "name": "stdout",
     "output_type": "stream",
     "text": [
      "{'name': 'kunal', 'age': 23, 'grade': 90}\n"
     ]
    }
   ],
   "source": [
    "student={\"name\":\"kunal\",\"age\":23,\"grade\":90}\n",
    "print(student)"
   ]
  },
  {
   "cell_type": "code",
   "execution_count": 7,
   "metadata": {},
   "outputs": [
    {
     "name": "stdout",
     "output_type": "stream",
     "text": [
      "{'name': 90, 'age': 23}\n"
     ]
    }
   ],
   "source": [
    "# error\n",
    "student={\"name\":\"kunal\",\"age\":23,\"name\":90}\n",
    "print(student)\n",
    "# recent value will be printed "
   ]
  },
  {
   "cell_type": "code",
   "execution_count": 14,
   "metadata": {},
   "outputs": [
    {
     "name": "stdout",
     "output_type": "stream",
     "text": [
      "{'name': 'kunal', 'age': 23, 'grade': 'A'}\n",
      "23\n",
      "A\n",
      "kunal\n",
      "23\n",
      "None\n",
      "Not Ava..\n"
     ]
    }
   ],
   "source": [
    "## accessing dictionary elements \n",
    "student={\"name\":\"kunal\",\"age\":23,\"grade\":\"A\"}\n",
    "print(student)\n",
    "\n",
    "student[\"grade\"]\n",
    "print(student[\"age\"])\n",
    "\n",
    "# accessing using get() method\n",
    "print(student.get(\"grade\"))\n",
    "print(student.get(\"name\"))\n",
    "print(student.get(\"age\"))\n",
    "\n",
    "# error\n",
    "print(student.get(\"ae\")) # None\n",
    "\n",
    "\n",
    "# default value\n",
    "print(student.get(\"last_name\",\"Not Ava..\"))\n",
    "\n"
   ]
  },
  {
   "cell_type": "code",
   "execution_count": 15,
   "metadata": {},
   "outputs": [
    {
     "name": "stdout",
     "output_type": "stream",
     "text": [
      "{'name': 'kunal', 'age': 23, 'grade': 'A'}\n"
     ]
    }
   ],
   "source": [
    "## Modifying dictionary elements \n",
    "## dictionary are mutable , so you can add , update or deleted elements \n",
    "\n",
    "\n",
    "print(student)"
   ]
  },
  {
   "cell_type": "code",
   "execution_count": 16,
   "metadata": {},
   "outputs": [
    {
     "name": "stdout",
     "output_type": "stream",
     "text": [
      "{'name': 'kunal', 'age': 22, 'grade': 'A'}\n",
      "{'name': 'kunal', 'age': 22, 'grade': 'A', 'add': 'India'}\n"
     ]
    }
   ],
   "source": [
    "student[\"age\"] = 22 #3 updated the value for the key\n",
    "print(student)\n",
    "student[\"add\"] = \"India\" # added a new key and value\n",
    "print(student)"
   ]
  },
  {
   "cell_type": "code",
   "execution_count": 19,
   "metadata": {},
   "outputs": [
    {
     "name": "stdout",
     "output_type": "stream",
     "text": [
      "{'name': 'kunal', 'age': 22, 'grade': 'A'}\n"
     ]
    }
   ],
   "source": [
    "# delete a key\n",
    "del student[\"add\"] # delete key and value pair\n",
    "print(student)"
   ]
  },
  {
   "cell_type": "code",
   "execution_count": 23,
   "metadata": {},
   "outputs": [
    {
     "name": "stdout",
     "output_type": "stream",
     "text": [
      "dict_keys(['name', 'age', 'grade'])\n",
      "dict_values(['kunal', 22, 'A'])\n",
      "dict_items([('name', 'kunal'), ('age', 22), ('grade', 'A')])\n"
     ]
    }
   ],
   "source": [
    "#  dictinoary methods \n",
    "\n",
    "keys = student.keys()\n",
    "print(keys) # get all keys \n",
    "values = student.values()\n",
    "print(values) # get all vaules\n",
    "\n",
    "items=student.items() ## get all key value pairs \n",
    "print(items)"
   ]
  },
  {
   "cell_type": "code",
   "execution_count": 26,
   "metadata": {},
   "outputs": [
    {
     "name": "stdout",
     "output_type": "stream",
     "text": [
      "{'name': 'kunal', 'age': 22, 'grade': 'A'}\n",
      "{'name': 'kunal', 'age': 22, 'grade': 'A'}\n"
     ]
    }
   ],
   "source": [
    "# shallow copy \n",
    "student_copy = student\n",
    "print(student_copy)\n",
    "print(student)"
   ]
  },
  {
   "cell_type": "code",
   "execution_count": 27,
   "metadata": {},
   "outputs": [],
   "source": [
    "student[\"name\"] = \"Kunal12\""
   ]
  },
  {
   "cell_type": "code",
   "execution_count": 4,
   "metadata": {},
   "outputs": [
    {
     "ename": "NameError",
     "evalue": "name 'student_copy' is not defined",
     "output_type": "error",
     "traceback": [
      "\u001b[1;31m---------------------------------------------------------------------------\u001b[0m",
      "\u001b[1;31mNameError\u001b[0m                                 Traceback (most recent call last)",
      "Cell \u001b[1;32mIn[4], line 1\u001b[0m\n\u001b[1;32m----> 1\u001b[0m \u001b[38;5;28mprint\u001b[39m(\u001b[43mstudent_copy\u001b[49m)\n\u001b[0;32m      2\u001b[0m \u001b[38;5;28mprint\u001b[39m(student)\n",
      "\u001b[1;31mNameError\u001b[0m: name 'student_copy' is not defined"
     ]
    }
   ],
   "source": [
    "print(student_copy)\n",
    "print(student)"
   ]
  },
  {
   "cell_type": "code",
   "execution_count": 29,
   "metadata": {},
   "outputs": [],
   "source": [
    "student_copy1 = student.copy() ## shallow copy\n"
   ]
  },
  {
   "cell_type": "code",
   "execution_count": 30,
   "metadata": {},
   "outputs": [],
   "source": [
    "# now if we update changes will be appiled to copy1 "
   ]
  },
  {
   "cell_type": "code",
   "execution_count": 6,
   "metadata": {},
   "outputs": [
    {
     "name": "stdout",
     "output_type": "stream",
     "text": [
      "name\n",
      "age\n",
      "grade\n"
     ]
    }
   ],
   "source": [
    "### Iterating  over dictionaries \n",
    "## you can use loops to iterate over dictorinoer , key , values or items\n",
    "\n",
    "# Iterating over keys \n",
    "student={\"name\":\"kunal\",\"age\":23,\"grade\":\"A\"}\n",
    "\n",
    "for keys in student.keys():\n",
    "    print(keys)\n",
    "\n",
    "\n"
   ]
  },
  {
   "cell_type": "code",
   "execution_count": 9,
   "metadata": {},
   "outputs": [
    {
     "name": "stdout",
     "output_type": "stream",
     "text": [
      "kunal\n",
      "23\n",
      "A\n"
     ]
    }
   ],
   "source": [
    "\n",
    "for values in student.values():\n",
    "    print(values)\n",
    "\n"
   ]
  },
  {
   "cell_type": "code",
   "execution_count": 10,
   "metadata": {},
   "outputs": [
    {
     "name": "stdout",
     "output_type": "stream",
     "text": [
      "name:kunal\n",
      "age:23\n",
      "grade:A\n"
     ]
    }
   ],
   "source": [
    "## iterate over key value pairs \n",
    "for key,value in student.items():\n",
    "    print(f\"{key}:{value}\")"
   ]
  },
  {
   "cell_type": "code",
   "execution_count": 11,
   "metadata": {},
   "outputs": [],
   "source": [
    "## nested dictionaries \n",
    "students= {\n",
    "    \"std1\": {\"name\":\"kunal\", \"roll\":1},\n",
    "    \"std2\": {\"name\":\"Iron\", \"roll\":2},\n",
    "    \"std3\": {\"name\":\"Spider\", \"roll\":4}\n",
    "}"
   ]
  },
  {
   "cell_type": "code",
   "execution_count": 12,
   "metadata": {},
   "outputs": [
    {
     "name": "stdout",
     "output_type": "stream",
     "text": [
      "{'std1': {'name': 'kunal', 'roll': 1}, 'std2': {'name': 'Iron', 'roll': 2}, 'std3': {'name': 'Spider', 'roll': 4}}\n"
     ]
    }
   ],
   "source": [
    "print(students)"
   ]
  },
  {
   "cell_type": "code",
   "execution_count": 13,
   "metadata": {},
   "outputs": [
    {
     "name": "stdout",
     "output_type": "stream",
     "text": [
      "Iron\n"
     ]
    }
   ],
   "source": [
    "print(students[\"std2\"][\"name\"])"
   ]
  },
  {
   "cell_type": "code",
   "execution_count": 15,
   "metadata": {},
   "outputs": [
    {
     "name": "stdout",
     "output_type": "stream",
     "text": [
      "std1: {'name': 'kunal', 'roll': 1}\n",
      "name,kunal\n",
      "roll,1\n",
      "std2: {'name': 'Iron', 'roll': 2}\n",
      "name,Iron\n",
      "roll,2\n",
      "std3: {'name': 'Spider', 'roll': 4}\n",
      "name,Spider\n",
      "roll,4\n"
     ]
    }
   ],
   "source": [
    "## iterating over nested dicotionaries \n",
    "\n",
    "for student_id,student_info in students.items():\n",
    "    print(f\"{student_id}: {student_info}\")\n",
    "    for key,value in student_info.items():\n",
    "        print(f\"{key},{value}\")"
   ]
  },
  {
   "cell_type": "code",
   "execution_count": 17,
   "metadata": {},
   "outputs": [
    {
     "name": "stdout",
     "output_type": "stream",
     "text": [
      "{0: 0, 1: 1, 2: 4, 3: 9, 4: 16}\n"
     ]
    }
   ],
   "source": [
    "## dictionary comprehension\n",
    "\n",
    "sq = {x:x**2 for x in range(5)}\n",
    "print(sq)"
   ]
  },
  {
   "cell_type": "code",
   "execution_count": 1,
   "metadata": {},
   "outputs": [
    {
     "name": "stdout",
     "output_type": "stream",
     "text": [
      "{0: 0, 2: 4, 4: 16, 6: 36, 8: 64}\n"
     ]
    }
   ],
   "source": [
    "## condition dict comprehension\n",
    "\n",
    "evens = {x:x**2 for x in range(10) if x%2==0}\n",
    "print(evens)\n"
   ]
  },
  {
   "cell_type": "code",
   "execution_count": 4,
   "metadata": {},
   "outputs": [
    {
     "name": "stdout",
     "output_type": "stream",
     "text": [
      "{1: 6, 3: 6, 4: 1, 2: 4, 42: 1}\n"
     ]
    }
   ],
   "source": [
    "## Practical Examples \n",
    "\n",
    "## use a dictonary to count the freq. elemts in list\n",
    "\n",
    "numbers = [1,1,3,4,2,1,3,2,1,3,42,1,3,3,2,1,2,3]\n",
    "freq = {}\n",
    "\n",
    "for number in numbers:\n",
    "    if number in freq:\n",
    "        freq[number]+=1\n",
    "    else:\n",
    "        freq[number]=1\n",
    "print(freq)"
   ]
  },
  {
   "cell_type": "code",
   "execution_count": 5,
   "metadata": {},
   "outputs": [
    {
     "name": "stdout",
     "output_type": "stream",
     "text": [
      "{'A': 1, 'B': 2, 'C': 1, 'D': 4}\n"
     ]
    }
   ],
   "source": [
    "## merge two dict..\n",
    "\n",
    "dict1={\"A\":1 , \"B\":2}\n",
    "\n",
    "dict2={\"C\":1 , \"D\":4}\n",
    "\n",
    "merge = {**dict1 , **dict2}\n",
    "\n",
    "print(merge)"
   ]
  }
 ],
 "metadata": {
  "kernelspec": {
   "display_name": "Python 3",
   "language": "python",
   "name": "python3"
  },
  "language_info": {
   "codemirror_mode": {
    "name": "ipython",
    "version": 3
   },
   "file_extension": ".py",
   "mimetype": "text/x-python",
   "name": "python",
   "nbconvert_exporter": "python",
   "pygments_lexer": "ipython3",
   "version": "3.10.15"
  }
 },
 "nbformat": 4,
 "nbformat_minor": 2
}
