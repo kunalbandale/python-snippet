{
 "cells": [
  {
   "cell_type": "markdown",
   "metadata": {},
   "source": [
    "Examples "
   ]
  },
  {
   "cell_type": "code",
   "execution_count": 3,
   "metadata": {},
   "outputs": [
    {
     "data": {
      "text/plain": [
       "37.77777777777778"
      ]
     },
     "execution_count": 3,
     "metadata": {},
     "output_type": "execute_result"
    }
   ],
   "source": [
    "# example 1 - temp convertor\n",
    "\n",
    "def convert_temp(temp,unit):\n",
    "    \"\"\" conversion of temparture \"\"\"\n",
    "    if unit==\"C\":\n",
    "        return temp *9/5 + 32 # c to f\n",
    "    elif unit == \"F\":\n",
    "        return(temp-32)*5/9 # f to c\n",
    "    else:\n",
    "        return None\n",
    "\n",
    "convert_temp(25,\"C\")\n",
    "convert_temp(100,\"F\")\n"
   ]
  },
  {
   "cell_type": "code",
   "execution_count": 8,
   "metadata": {},
   "outputs": [
    {
     "data": {
      "text/plain": [
       "True"
      ]
     },
     "execution_count": 8,
     "metadata": {},
     "output_type": "execute_result"
    }
   ],
   "source": [
    "# example 2 - password checker\n",
    "\n",
    "def isStrong(password):\n",
    "    \"\"\" This function checks if the password is strong or not \"\"\"\n",
    "    if len(password) < 8:\n",
    "        return False\n",
    "    if not any(char.isdigit() for char in password):\n",
    "        return False\n",
    "    if not any(char.islower() for char in password):\n",
    "        return False\n",
    "    if not any(char.isupper() for char in password):\n",
    "        return False\n",
    "    if not any(char in \"!@#$%^&*()\" for char in password):\n",
    "        return False\n",
    "    return True\n",
    "    \n",
    "isStrong(\"12#DGDd3\")"
   ]
  },
  {
   "cell_type": "code",
   "execution_count": 23,
   "metadata": {},
   "outputs": [
    {
     "name": "stdout",
     "output_type": "stream",
     "text": [
      "47.5\n"
     ]
    }
   ],
   "source": [
    "# example 3 \n",
    "\n",
    "def cart_total(cart):\n",
    "    total_cost=0\n",
    "    for item in cart:\n",
    "        total_cost += item['Price'] * item['qty']\n",
    "    \n",
    "\n",
    "    return total_cost\n",
    "\n",
    "# example \n",
    "\n",
    "cart = [\n",
    "    {\"name\":'Apple', \"Price\":0.5,\"qty\":12},\n",
    "    {\"name\":'orange', \"Price\":1.5,\"qty\":1},\n",
    "    {\"name\":'green', \"Price\":2.5,\"qty\":2},\n",
    "    {\"name\":'yellow', \"Price\":3.5,\"qty\":10}\n",
    "\n",
    "]\n",
    "\n",
    "\n",
    "total_cost = cart_total(cart)\n",
    "print(total_cost)"
   ]
  },
  {
   "cell_type": "code",
   "execution_count": 31,
   "metadata": {},
   "outputs": [
    {
     "name": "stdout",
     "output_type": "stream",
     "text": [
      "True\n"
     ]
    }
   ],
   "source": [
    "# palindrome 121 , aba , bab\n",
    "\n",
    "\n",
    "def is_palindrome(s):\n",
    "    s=s.lower().replace(\" \" , \"\")\n",
    "    return s==s[::-1]\n",
    "\n",
    "print(is_palindrome(\"aba\"))\n",
    "    \n",
    "\n",
    "\n"
   ]
  },
  {
   "cell_type": "code",
   "execution_count": 32,
   "metadata": {},
   "outputs": [
    {
     "name": "stdout",
     "output_type": "stream",
     "text": [
      "479001600\n"
     ]
    }
   ],
   "source": [
    "#  example 5 \n",
    "\n",
    "def fact(n):\n",
    "    if n==0:\n",
    "        return 1\n",
    "    else:\n",
    "        return n*fact(n-1)\n",
    "    \n",
    "print(fact(12))"
   ]
  },
  {
   "cell_type": "code",
   "execution_count": 13,
   "metadata": {},
   "outputs": [
    {
     "name": "stdout",
     "output_type": "stream",
     "text": [
      "{'this': 1, 'a': 2, 'program': 1, 'to': 1, 'read': 1, 'file': 2, 'and': 1, 'count': 1, 'the': 2, 'frequency': 1, 'of': 1, 'each': 1, 'word': 1, 'in': 1}\n"
     ]
    }
   ],
   "source": [
    "# example 6 -> read file and count frequency \n",
    "\n",
    "def count_word_freq (file_path):\n",
    "    word_count={}\n",
    "    with open(file_path,'r') as file :\n",
    "        for line in file:\n",
    "            words=line.split()\n",
    "            for word in words:\n",
    "                word=word.lower().strip(',.!?:\"\"!')\n",
    "                word_count[word]=word_count.get(word,0)+1\n",
    "\n",
    "    return word_count\n",
    "\n",
    "\n",
    "\n",
    "file_path='test.txt'     \n",
    "word_freq=count_word_freq(file_path)\n",
    "print(word_freq)\n"
   ]
  },
  {
   "cell_type": "code",
   "execution_count": null,
   "metadata": {},
   "outputs": [],
   "source": [
    "# example -> validate email address \n",
    "\n"
   ]
  }
 ],
 "metadata": {
  "kernelspec": {
   "display_name": "Python 3",
   "language": "python",
   "name": "python3"
  },
  "language_info": {
   "codemirror_mode": {
    "name": "ipython",
    "version": 3
   },
   "file_extension": ".py",
   "mimetype": "text/x-python",
   "name": "python",
   "nbconvert_exporter": "python",
   "pygments_lexer": "ipython3",
   "version": "3.10.15"
  }
 },
 "nbformat": 4,
 "nbformat_minor": 2
}
