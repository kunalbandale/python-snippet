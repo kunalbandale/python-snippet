{
 "cells": [
  {
   "cell_type": "markdown",
   "metadata": {},
   "source": [
    "### Filter function in python "
   ]
  },
  {
   "cell_type": "markdown",
   "metadata": {},
   "source": [
    "The filter function constructs an iterator from elemtns of an iterable for which a function returns ture . It is used to filter out items form a list or any other iterable based on a condition "
   ]
  },
  {
   "cell_type": "code",
   "execution_count": 1,
   "metadata": {},
   "outputs": [
    {
     "data": {
      "text/plain": [
       "True"
      ]
     },
     "execution_count": 1,
     "metadata": {},
     "output_type": "execute_result"
    }
   ],
   "source": [
    "def even(num):\n",
    "    if num % 2 == 0:\n",
    "        return True\n",
    "\n",
    "even(12)\n"
   ]
  },
  {
   "cell_type": "code",
   "execution_count": 3,
   "metadata": {},
   "outputs": [
    {
     "data": {
      "text/plain": [
       "[2, 4, 6, 4, 34, 4, 34, 34, 6]"
      ]
     },
     "execution_count": 3,
     "metadata": {},
     "output_type": "execute_result"
    }
   ],
   "source": [
    "list1 = [1,2,3,4,5,7,6,4,34,3,4,34,34,5,6]\n",
    "\n",
    "\n",
    "list(filter(even,list1))"
   ]
  },
  {
   "cell_type": "code",
   "execution_count": 6,
   "metadata": {},
   "outputs": [
    {
     "name": "stdout",
     "output_type": "stream",
     "text": [
      "[44, 34, 2343]\n"
     ]
    }
   ],
   "source": [
    "## filter with lambda function \n",
    "\n",
    "number=[1,2,3,4,5,44,2,34,2343]\n",
    "greater_than_5 = list(filter(lambda x:x>5,number))\n",
    "print(greater_than_5)"
   ]
  },
  {
   "cell_type": "code",
   "execution_count": 8,
   "metadata": {},
   "outputs": [
    {
     "name": "stdout",
     "output_type": "stream",
     "text": [
      "[44, 34]\n"
     ]
    }
   ],
   "source": [
    "# filter with lambda function and multiple conditions \n",
    "number=[1,2,3,4,5,44,2,34,2343]\n",
    "even_and_greater=list(filter(lambda x:x>5 and x%2==0,number))\n",
    "\n",
    "print(even_and_greater)\n"
   ]
  },
  {
   "cell_type": "code",
   "execution_count": 9,
   "metadata": {},
   "outputs": [
    {
     "data": {
      "text/plain": [
       "[{'name': 'akash', 'age': 40}]"
      ]
     },
     "execution_count": 9,
     "metadata": {},
     "output_type": "execute_result"
    }
   ],
   "source": [
    "# filter with dicitornaries \n",
    "people = [\n",
    "    {'name':'kunal','age':23},{'name':'akash', 'age':40}\n",
    "]\n",
    "\n",
    "def age_greater(person):\n",
    "    return person['age'] > 25\n",
    "list(filter(age_greater,people))"
   ]
  }
 ],
 "metadata": {
  "kernelspec": {
   "display_name": "Python 3",
   "language": "python",
   "name": "python3"
  },
  "language_info": {
   "codemirror_mode": {
    "name": "ipython",
    "version": 3
   },
   "file_extension": ".py",
   "mimetype": "text/x-python",
   "name": "python",
   "nbconvert_exporter": "python",
   "pygments_lexer": "ipython3",
   "version": "3.10.15"
  }
 },
 "nbformat": 4,
 "nbformat_minor": 2
}
