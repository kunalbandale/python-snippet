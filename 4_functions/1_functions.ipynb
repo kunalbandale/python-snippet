{
 "cells": [
  {
   "cell_type": "markdown",
   "metadata": {},
   "source": [
    "## Functions "
   ]
  },
  {
   "cell_type": "markdown",
   "metadata": {
    "vscode": {
     "languageId": "plaintext"
    }
   },
   "source": [
    "A function is a block of code that performs speidific task. Function help in organzing code,rusing code and improving readeability \n"
   ]
  },
  {
   "cell_type": "code",
   "execution_count": 1,
   "metadata": {},
   "outputs": [],
   "source": [
    "# syntax of function \n",
    "\n",
    "def function_name(paras):\n",
    "    \"\"\" docstring \"\"\"\n",
    "    # function body \n",
    "    return expression "
   ]
  },
  {
   "cell_type": "code",
   "execution_count": 4,
   "metadata": {},
   "outputs": [
    {
     "name": "stdout",
     "output_type": "stream",
     "text": [
      "The number is odd\n",
      "The number is even\n"
     ]
    }
   ],
   "source": [
    "#  Why Function ?\n",
    "# code resusability \n",
    "\n",
    "def even_odd(num):\n",
    "    \"\"\" This function finds the number is even or odd \"\"\"\n",
    "    if num%2==0:\n",
    "        print(\"The number is even\")\n",
    "    else:\n",
    "        print(\"The number is odd\")\n",
    "\n",
    "# functino call\n",
    "even_odd(33)\n",
    "even_odd(2)\n"
   ]
  },
  {
   "cell_type": "code",
   "execution_count": 7,
   "metadata": {},
   "outputs": [
    {
     "name": "stdout",
     "output_type": "stream",
     "text": [
      "3\n"
     ]
    }
   ],
   "source": [
    "# function with multiple paras\n",
    "\n",
    "def add(a,b):\n",
    "    return a+b\n",
    "\n",
    "print(add(1,2))"
   ]
  },
  {
   "cell_type": "code",
   "execution_count": 15,
   "metadata": {},
   "outputs": [
    {
     "name": "stdout",
     "output_type": "stream",
     "text": [
      "Hello Kunal Welcome to Jungle.\n",
      "Hello Guest Welcome to Jungle.\n"
     ]
    }
   ],
   "source": [
    "# default paras \n",
    "\n",
    "# ex1\n",
    "def add(a,b=0):\n",
    "    return a+b\n",
    "\n",
    "add(3)\n",
    "\n",
    "# ex2\n",
    "\n",
    "def greet(name=\"Guest\"):\n",
    "    print(f\"Hello {name} Welcome to Jungle.\")\n",
    "\n",
    "greet(\"Kunal\")\n",
    "greet()\n",
    "\n",
    "\n"
   ]
  },
  {
   "cell_type": "code",
   "execution_count": 20,
   "metadata": {},
   "outputs": [
    {
     "name": "stdout",
     "output_type": "stream",
     "text": [
      "3\n",
      "4\n",
      "4\n",
      "3\n",
      "2\n",
      "2\n",
      "2\n",
      "hello\n",
      "None\n"
     ]
    }
   ],
   "source": [
    "## imp - > variable length args \n",
    "# positional and keyword args\n",
    "\n",
    "def print_numbers(*args):\n",
    "    for numbers in args:\n",
    "        print(numbers)\n",
    "        \n",
    "\n",
    "print(print_numbers(3,4,4,3,2,2,2,\"hello\"))\n"
   ]
  },
  {
   "cell_type": "code",
   "execution_count": 23,
   "metadata": {},
   "outputs": [
    {
     "name": "stdout",
     "output_type": "stream",
     "text": [
      "name:kunal\n",
      "reg:1\n"
     ]
    }
   ],
   "source": [
    "## keywords args \n",
    "\n",
    "def print_details(**kwargs):\n",
    "    for key,value in kwargs.items():\n",
    "        print(f\"{key}:{value}\")\n",
    "\n",
    "print_details(name=\"kunal\" , reg=1)\n"
   ]
  },
  {
   "cell_type": "code",
   "execution_count": 29,
   "metadata": {},
   "outputs": [
    {
     "name": "stdout",
     "output_type": "stream",
     "text": [
      "pos args 1\n",
      "pos args 3\n",
      "pos args 3\n",
      "pos args 4\n",
      "pos args 2\n",
      "keword argsname:kunal\n"
     ]
    }
   ],
   "source": [
    "# combining both\n",
    "\n",
    "def print_details(*args , **kwargs):\n",
    "     for val in args:\n",
    "        print(\"pos args\",val)\n",
    "\n",
    "     for key,value in kwargs.items():\n",
    "        print(f\"keword args{key}:{value}\")\n",
    "\n",
    "print_details(1,3,3,4,2,name=\"kunal\")"
   ]
  },
  {
   "cell_type": "code",
   "execution_count": 30,
   "metadata": {},
   "outputs": [
    {
     "data": {
      "text/plain": [
       "46"
      ]
     },
     "execution_count": 30,
     "metadata": {},
     "output_type": "execute_result"
    }
   ],
   "source": [
    "#  return statements \n",
    "\n",
    "def mul(a,b):\n",
    "    return a*b\n",
    "\n",
    "mul(23,2)"
   ]
  },
  {
   "cell_type": "code",
   "execution_count": 33,
   "metadata": {},
   "outputs": [
    {
     "data": {
      "text/plain": [
       "(4, 2, 2)"
      ]
     },
     "execution_count": 33,
     "metadata": {},
     "output_type": "execute_result"
    }
   ],
   "source": [
    "#  return statements \n",
    "\n",
    "def mul(a,b):\n",
    "    return a*b,a,b\n",
    "\n",
    "mul(2,2)"
   ]
  },
  {
   "cell_type": "code",
   "execution_count": null,
   "metadata": {},
   "outputs": [],
   "source": []
  }
 ],
 "metadata": {
  "kernelspec": {
   "display_name": "Python 3",
   "language": "python",
   "name": "python3"
  },
  "language_info": {
   "codemirror_mode": {
    "name": "ipython",
    "version": 3
   },
   "file_extension": ".py",
   "mimetype": "text/x-python",
   "name": "python",
   "nbconvert_exporter": "python",
   "pygments_lexer": "ipython3",
   "version": "3.10.15"
  }
 },
 "nbformat": 4,
 "nbformat_minor": 2
}
