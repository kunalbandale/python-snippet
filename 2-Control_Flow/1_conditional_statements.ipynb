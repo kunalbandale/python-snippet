{
 "cells": [
  {
   "cell_type": "markdown",
   "metadata": {},
   "source": [
    "Conditional Statements "
   ]
  },
  {
   "cell_type": "code",
   "execution_count": 1,
   "metadata": {},
   "outputs": [
    {
     "name": "stdout",
     "output_type": "stream",
     "text": [
      "You are allowed to vote!\n"
     ]
    }
   ],
   "source": [
    "#  if statement \n",
    "age = 20 \n",
    "\n",
    "if age >= 18:\n",
    "    print(\"You are allowed to vote!\")"
   ]
  },
  {
   "cell_type": "code",
   "execution_count": 4,
   "metadata": {},
   "outputs": [
    {
     "name": "stdout",
     "output_type": "stream",
     "text": [
      "You Cannot Vote! 2\n"
     ]
    }
   ],
   "source": [
    "# else \n",
    "# The else statement executes a block of code if the condition in the if statement is false.\n",
    "\n",
    "age = 16\n",
    "\n",
    "if age >=18:\n",
    "    print(\"You can Vote!\")\n",
    "else:\n",
    "    print(\"You Cannot Vote!\")"
   ]
  },
  {
   "cell_type": "code",
   "execution_count": 5,
   "metadata": {},
   "outputs": [
    {
     "name": "stdout",
     "output_type": "stream",
     "text": [
      "You are Adult!\n"
     ]
    }
   ],
   "source": [
    "#  elif\n",
    "#  The elif statement allows you to check multiple conditions. It stands for \"else if\"\n",
    "\n",
    "age = 20 \n",
    "\n",
    "if age < 13:\n",
    "    print(\"Your are Child\")\n",
    "elif age < 18:\n",
    "    print(\"Your are teenager\")\n",
    "else:\n",
    "    print(\"You are Adult!\")\n"
   ]
  },
  {
   "cell_type": "code",
   "execution_count": 6,
   "metadata": {},
   "outputs": [
    {
     "name": "stdout",
     "output_type": "stream",
     "text": [
      "The number is postivie\n",
      "The number is even\n"
     ]
    }
   ],
   "source": [
    "# Nested Condtional statements \n",
    "# you can place condition inside condiiton \n",
    "\n",
    "num = int(input(\"Enter the number\"))\n",
    "\n",
    "if num>=0:\n",
    "    print(\"The number is postivie\")\n",
    "    if num%2==0:\n",
    "        print(\"The number is even\")\n",
    "    else:\n",
    "        print(\"The number is odd\")\n",
    "else:\n",
    "    print(\"The number is zero or negative\")\n",
    "\n"
   ]
  },
  {
   "cell_type": "code",
   "execution_count": 8,
   "metadata": {},
   "outputs": [
    {
     "name": "stdout",
     "output_type": "stream",
     "text": [
      "2000 is a leap year\n"
     ]
    }
   ],
   "source": [
    "#  Practical Examples \n",
    "\n",
    "# determine if a year is leap year using nested coniditional statement \n",
    "\n",
    "year = int(input(\"Enter the year yyyy\"))\n",
    "\n",
    "if(year%4==0):\n",
    "    if(year%100==0):\n",
    "        if(year%400==0):\n",
    "            print(year,\"is a leap year\")\n",
    "        else:\n",
    "            print(\"Not a leap year\")\n",
    "    else:\n",
    "        print(year, \"is a leap year\")\n",
    "else:\n",
    "    print(year,\"is not a leap year\")\n"
   ]
  }
 ],
 "metadata": {
  "kernelspec": {
   "display_name": "Python 3",
   "language": "python",
   "name": "python3"
  },
  "language_info": {
   "codemirror_mode": {
    "name": "ipython",
    "version": 3
   },
   "file_extension": ".py",
   "mimetype": "text/x-python",
   "name": "python",
   "nbconvert_exporter": "python",
   "pygments_lexer": "ipython3",
   "version": "3.10.15"
  }
 },
 "nbformat": 4,
 "nbformat_minor": 2
}
